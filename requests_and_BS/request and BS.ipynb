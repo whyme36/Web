{
 "cells": [
  {
   "cell_type": "markdown",
   "id": "working-brisbane",
   "metadata": {},
   "source": [
    "## As an example, I will use an exercises I wrote from class "
   ]
  },
  {
   "cell_type": "code",
   "execution_count": 5,
   "id": "worst-lodging",
   "metadata": {},
   "outputs": [],
   "source": [
    "from urllib import request\n",
    "from bs4 import BeautifulSoup"
   ]
  },
  {
   "cell_type": "markdown",
   "id": "outside-pharmacy",
   "metadata": {},
   "source": [
    "## This feature is designed to fool the site from which we are downloading content, pretending to be a web browser when a request is sent to the server."
   ]
  },
  {
   "cell_type": "code",
   "execution_count": 12,
   "id": "injured-senegal",
   "metadata": {},
   "outputs": [],
   "source": [
    "def fetch_url(url):\n",
    "    opener = request.build_opener()\n",
    "    opener.addheaders = [('User-agent', 'Mozilla/5.0 (X11; Linux x86_64; rv:10.0) Gecko/20100101 Firefox/10.0')]\n",
    "    request.install_opener(opener)\n",
    "    html_string = request.urlopen(url).read()\n",
    "    return html_string.decode()"
   ]
  },
  {
   "cell_type": "markdown",
   "id": "original-seller",
   "metadata": {},
   "source": [
    "## Load the data from the page and use BeautifulSoup to make the downloaded HTML look"
   ]
  },
  {
   "cell_type": "code",
   "execution_count": 21,
   "id": "immune-celebration",
   "metadata": {},
   "outputs": [],
   "source": [
    "url='http://150.254.36.120/bs_zajecia/cokupic/1.html' #input()\n",
    "array_of_raiting=[]\n",
    "actors_html = fetch_url(url )\n",
    "actors_soup = BeautifulSoup(actors_html,features=\"html.parser\")\n"
   ]
  },
  {
   "cell_type": "markdown",
   "id": "structural-harbor",
   "metadata": {},
   "source": [
    "# 1. For a given page from cokupic.pl, write the average rating given to a product on this page, rounded to the first decimal place."
   ]
  },
  {
   "cell_type": "markdown",
   "id": "destroyed-commodity",
   "metadata": {},
   "source": [
    "## in the first step limit the data to particular users' opinions, so we get a table with opinions "
   ]
  },
  {
   "cell_type": "code",
   "execution_count": 22,
   "id": "historic-preserve",
   "metadata": {},
   "outputs": [],
   "source": [
    "opinions = actors_soup.find_all('div', {'class' : 'opinion'})\n"
   ]
  },
  {
   "cell_type": "markdown",
   "id": "finnish-morocco",
   "metadata": {},
   "source": [
    "## Take user ratings out of the reviews"
   ]
  },
  {
   "cell_type": "code",
   "execution_count": 11,
   "id": "brave-domestic",
   "metadata": {},
   "outputs": [
    {
     "data": {
      "text/plain": [
       "[5, 3, 4, 5, 1, 5, 5, 5, 5, 5]"
      ]
     },
     "execution_count": 11,
     "metadata": {},
     "output_type": "execute_result"
    }
   ],
   "source": [
    "for opinion in opinions:\n",
    "    values=opinion.find_all('span', {'class': 'points'})\n",
    "    for one_value in values:\n",
    "        array_of_raiting.append(int(one_value.text))\n",
    "array_of_raiting"
   ]
  },
  {
   "cell_type": "markdown",
   "id": "freelance-springer",
   "metadata": {},
   "source": [
    "##  Create a function responsible for calculating the average "
   ]
  },
  {
   "cell_type": "code",
   "execution_count": 13,
   "id": "ceramic-doubt",
   "metadata": {},
   "outputs": [
    {
     "name": "stdout",
     "output_type": "stream",
     "text": [
      "4.3\n"
     ]
    }
   ],
   "source": [
    "def my_mean(sample):\n",
    "     return sum(sample) / len(sample)\n",
    "\n",
    "print(my_mean(array_of_raiting))"
   ]
  },
  {
   "cell_type": "markdown",
   "id": "uniform-silly",
   "metadata": {},
   "source": [
    "# 2. Retrieve vessel name, IMO number, MMSI number, Call Sign, Flag and AIS Type from the MarineTraffic portal for the specified ship data page. (similar to the first example)"
   ]
  },
  {
   "cell_type": "code",
   "execution_count": 23,
   "id": "floppy-substitute",
   "metadata": {},
   "outputs": [],
   "source": [
    "array_of_data=[]\n",
    "url='http://150.254.36.120/bs_zajecia/mt/1.html'\n",
    "actors_html = fetch_url(url )\n",
    "actors_soup = BeautifulSoup(actors_html,features=\"html.parser\")\n"
   ]
  },
  {
   "cell_type": "code",
   "execution_count": 17,
   "id": "searching-chain",
   "metadata": {
    "scrolled": true
   },
   "outputs": [
    {
     "data": {
      "text/plain": [
       "[<div class=\"group-ib short-line vertical-offset-5\">\n",
       " <span>MMSI: </span>\n",
       " <b>620119000</b>\n",
       " </div>,\n",
       " <div class=\"group-ib short-line vertical-offset-5\">\n",
       " <span>Call Sign: </span>\n",
       " <b>D6A2119</b>\n",
       " </div>,\n",
       " <div class=\"group-ib short-line vertical-offset-5\">\n",
       " <span>Flag: </span>\n",
       " <b>Comoros [KM]</b>\n",
       " </div>,\n",
       " <div class=\"group-ib short-line vertical-offset-5\">\n",
       " <span>AIS Vessel Type: </span>\n",
       " <b>Unspecified</b>\n",
       " </div>,\n",
       " <div class=\"group-ib short-line vertical-offset-5\">\n",
       " <span>Deadweight: </span>\n",
       " <b>3257 t</b>\n",
       " </div>,\n",
       " <div class=\"group-ib short-line vertical-offset-5\">\n",
       " <span>Length Overall x Breadth Extreme: </span>\n",
       " <b>108.4m × 15m</b>\n",
       " </div>,\n",
       " <div class=\"group-ib short-line vertical-offset-5\">\n",
       " <span>Year Built: </span>\n",
       " <b>1990</b>\n",
       " </div>,\n",
       " <div class=\"group-ib short-line vertical-offset-5\">\n",
       " <span>Status: </span>\n",
       " <b>Active</b>\n",
       " </div>]"
      ]
     },
     "execution_count": 17,
     "metadata": {},
     "output_type": "execute_result"
    }
   ],
   "source": [
    "Vassel_name = actors_soup.find('h1', {'class' : 'font-200 no-margin'}).text\n",
    "array_of_data.append(Vassel_name)\n",
    "IMO=actors_soup.find('div', {'class' : 'group-ib short-line'}).find('b').text\n",
    "array_of_data.append(IMO)\n",
    "rests=actors_soup.find_all('div', {'class' : 'group-ib short-line vertical-offset-5'})\n",
    "rests\n"
   ]
  },
  {
   "cell_type": "code",
   "execution_count": 19,
   "id": "nonprofit-vertex",
   "metadata": {},
   "outputs": [
    {
     "data": {
      "text/plain": [
       "['RIVER WIND',\n",
       " '8843666',\n",
       " '620119000',\n",
       " 'D6A2119',\n",
       " 'Comoros [KM]',\n",
       " 'Unspecified']"
      ]
     },
     "execution_count": 19,
     "metadata": {},
     "output_type": "execute_result"
    }
   ],
   "source": [
    "    for rest in rests[:4]:\n",
    "    reszta_danych=rest.find('b').text\n",
    "    array_of_data.append(reszta_danych)\n",
    "array_of_data"
   ]
  },
  {
   "cell_type": "code",
   "execution_count": 20,
   "id": "complex-popularity",
   "metadata": {},
   "outputs": [
    {
     "name": "stdout",
     "output_type": "stream",
     "text": [
      "('Vessel Name', 'RIVER WIND')\n",
      "('IMO', '8843666')\n",
      "('MMSI', '620119000')\n",
      "('Call Sign', 'D6A2119')\n",
      "('Flag', 'Comoros [KM]')\n",
      "('AIS Vessel Type', 'Unspecified')\n"
     ]
    }
   ],
   "source": [
    "\n",
    "array_of_tuples=[]\n",
    "array_of_names=['Vessel Name','IMO','MMSI','Call Sign', 'Flag','AIS Vessel Type']\n",
    "for value,name in zip(array_of_data,array_of_names): \n",
    "    array_of_tuples.append((name,value))\n",
    "for tuple in array_of_tuples: \n",
    "    print(tuple)\n"
   ]
  }
 ],
 "metadata": {
  "kernelspec": {
   "display_name": "Python 3",
   "language": "python",
   "name": "python3"
  },
  "language_info": {
   "codemirror_mode": {
    "name": "ipython",
    "version": 3
   },
   "file_extension": ".py",
   "mimetype": "text/x-python",
   "name": "python",
   "nbconvert_exporter": "python",
   "pygments_lexer": "ipython3",
   "version": "3.9.6"
  }
 },
 "nbformat": 4,
 "nbformat_minor": 5
}
